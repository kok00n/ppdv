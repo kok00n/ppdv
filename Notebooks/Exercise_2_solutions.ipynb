{
 "cells": [
  {
   "cell_type": "markdown",
   "metadata": {},
   "source": [
    "# Second Exercise"
   ]
  },
  {
   "cell_type": "markdown",
   "metadata": {},
   "source": [
    "### Problem 1"
   ]
  },
  {
   "cell_type": "code",
   "execution_count": 8,
   "metadata": {},
   "outputs": [],
   "source": [
    "class Line(object):\n",
    "    \n",
    "    def __init__(self, coor1, coor2):\n",
    "        \"\"\"\n",
    "        Initialize instance attributes with tuples:\n",
    "        (x1, y2) and (x2, y2)\n",
    "        \"\"\"\n",
    "        self.coor1 = coor1\n",
    "        self.coor2 = coor2\n",
    "        \n",
    "    def distance(self):\n",
    "        \"\"\"\n",
    "        Calculate the length of the segment (line)\n",
    "        \"\"\"\n",
    "        return ((self.coor1[0] - self.coor2[0]) ** 2 + \n",
    "                (self.coor1[1] - self.coor2[1]) ** 2) ** (1 / 2)\n",
    "\n",
    "    def slope(self):\n",
    "        \"\"\"\n",
    "        Return the slope of a line going through the ends (the 'a' in y=ax+b)\n",
    "        \"\"\"\n",
    "        return ((self.coor2[1] - self.coor1[1]) / \n",
    "                (self.coor2[0] - self.coor1[0]))\n"
   ]
  },
  {
   "cell_type": "code",
   "execution_count": 9,
   "metadata": {},
   "outputs": [],
   "source": [
    "coordinate1 = (3, 2)\n",
    "coordinate2 = (8, 10)\n",
    "\n",
    "li = Line(coordinate1, coordinate2)"
   ]
  },
  {
   "cell_type": "code",
   "execution_count": 10,
   "metadata": {},
   "outputs": [
    {
     "data": {
      "text/plain": [
       "9.433981132056603"
      ]
     },
     "execution_count": 10,
     "metadata": {},
     "output_type": "execute_result"
    }
   ],
   "source": [
    "li.distance()"
   ]
  },
  {
   "cell_type": "code",
   "execution_count": 11,
   "metadata": {},
   "outputs": [
    {
     "data": {
      "text/plain": [
       "1.6"
      ]
     },
     "execution_count": 11,
     "metadata": {},
     "output_type": "execute_result"
    }
   ],
   "source": [
    "li.slope()"
   ]
  },
  {
   "cell_type": "markdown",
   "metadata": {},
   "source": [
    "### Ploblem 2"
   ]
  },
  {
   "cell_type": "code",
   "execution_count": 18,
   "metadata": {},
   "outputs": [],
   "source": [
    "import math\n",
    "\n",
    "\n",
    "class Cylinder(object):\n",
    "    \n",
    "    def __init__(self, height=1, radius=1):\n",
    "        self.height = height\n",
    "        self.radius = radius\n",
    "        \n",
    "    def volume(self):\n",
    "        return round(math.pi * self.radius ** 2 * self.height, 2)\n",
    "    \n",
    "    def surface_area(self):\n",
    "        return round((2 * math.pi * self.radius * self.height) +\n",
    "                     (2 * math.pi * self.radius ** 2), 2)\n",
    "    "
   ]
  },
  {
   "cell_type": "code",
   "execution_count": 19,
   "metadata": {},
   "outputs": [],
   "source": [
    "c = Cylinder(2, 3)"
   ]
  },
  {
   "cell_type": "code",
   "execution_count": 20,
   "metadata": {},
   "outputs": [
    {
     "data": {
      "text/plain": [
       "56.55"
      ]
     },
     "execution_count": 20,
     "metadata": {},
     "output_type": "execute_result"
    }
   ],
   "source": [
    "c.volume()"
   ]
  },
  {
   "cell_type": "code",
   "execution_count": 21,
   "metadata": {},
   "outputs": [
    {
     "data": {
      "text/plain": [
       "94.25"
      ]
     },
     "execution_count": 21,
     "metadata": {},
     "output_type": "execute_result"
    }
   ],
   "source": [
    "c.surface_area()"
   ]
  },
  {
   "cell_type": "markdown",
   "metadata": {},
   "source": [
    "### Problem 3"
   ]
  },
  {
   "cell_type": "code",
   "execution_count": 119,
   "metadata": {},
   "outputs": [],
   "source": [
    "class DataFile(object):\n",
    "    \n",
    "    def __init__(self, filename='undef.txt', delim=';'):\n",
    "        with open(filename) as f:\n",
    "            self.colname = f.readline().strip().split(delim)\n",
    "            self.data = list()\n",
    "            for itr in f.readlines():\n",
    "                self.data.append(itr.strip().split(delim))\n",
    "                \n",
    "    def info(self):\n",
    "        output = dict()\n",
    "        for itr, value in enumerate(self.colname):\n",
    "            av = mi = ma = None\n",
    "            try:\n",
    "                av = self.avg(itr)\n",
    "                mi = self.min(itr)\n",
    "                ma = self.max(itr)\n",
    "            except ValueError:\n",
    "                pass\n",
    "                \n",
    "            output[value] = [mi, ma, av]\n",
    "            \n",
    "        print('{:10s} {:8s} {:8s} {:8s}'.format('', 'Min', 'Max', 'Avg'))\n",
    "        for itr, value in enumerate(self.colname):\n",
    "            for jtr in range(len(output[value])):\n",
    "                if output[value][jtr] is None:\n",
    "                    output[value][jtr] = '-' \n",
    "                else:\n",
    "                    output[value][jtr] = '{:.1f}'.format(output[value][jtr])\n",
    "                \n",
    "            print('{:10s} {:8s} {:8s} {:8s}'.format(value + ':', \n",
    "                                                    output[value][0], \n",
    "                                                    output[value][1], \n",
    "                                                    output[value][2]\n",
    "                                                   )\n",
    "                 )\n",
    "        \n",
    "            \n",
    "    def avg(self, colnum=0, colname=''):\n",
    "        data = self.__helper(colnum, colname)\n",
    "        return sum(data) / len(data)\n",
    "    \n",
    "    def min(self, colnum=0, colname=''):\n",
    "        return min(self.__helper(colnum, colname))\n",
    "    \n",
    "    def max(self, colnum=0, colname=''):\n",
    "        return max(self.__helper(colnum, colname))\n",
    "    \n",
    "    def __checker(self, colnum, colname):\n",
    "        index = colnum\n",
    "        if colname != '':\n",
    "            index = self.colname.index(colname)\n",
    "        \n",
    "        if index >= len(self.colname) or index < 0:\n",
    "            raise IndexError('Index out of rage')\n",
    "        \n",
    "        return index\n",
    "    \n",
    "    def __helper(self, colnum, colname):\n",
    "        data = list()\n",
    "        index = self.__checker(colnum, colname)\n",
    "        \n",
    "        for itr in self.data:\n",
    "            try:\n",
    "                data.append(float(itr[index]))\n",
    "            except:\n",
    "                pass\n",
    "            \n",
    "        if not data:\n",
    "            raise ValueError('String column')\n",
    "            \n",
    "        return data\n",
    "    "
   ]
  },
  {
   "cell_type": "code",
   "execution_count": 120,
   "metadata": {},
   "outputs": [],
   "source": [
    "tmp = DataFile()"
   ]
  },
  {
   "cell_type": "code",
   "execution_count": 121,
   "metadata": {},
   "outputs": [
    {
     "name": "stdout",
     "output_type": "stream",
     "text": [
      "           Min      Max      Avg     \n",
      "Name:      -        -        -       \n",
      "Age:       4.0      8.0      6.0     \n",
      "Weight:    18.0     32.0     25.0    \n",
      "Height:    98.0     138.0    119.7   \n"
     ]
    }
   ],
   "source": [
    "tmp.info()"
   ]
  }
 ],
 "metadata": {
  "kernelspec": {
   "display_name": "Python 3",
   "language": "python",
   "name": "python3"
  },
  "language_info": {
   "codemirror_mode": {
    "name": "ipython",
    "version": 3
   },
   "file_extension": ".py",
   "mimetype": "text/x-python",
   "name": "python",
   "nbconvert_exporter": "python",
   "pygments_lexer": "ipython3",
   "version": "3.6.4"
  }
 },
 "nbformat": 4,
 "nbformat_minor": 2
}
